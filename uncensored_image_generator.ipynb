{
 "cells": [
  {
   "cell_type": "code",
   "execution_count": 1,
   "metadata": {},
   "outputs": [],
   "source": [
    "import shutil\n",
    "import os\n",
    "from gradio_client import Client"
   ]
  },
  {
   "cell_type": "code",
   "execution_count": 2,
   "metadata": {},
   "outputs": [
    {
     "name": "stdout",
     "output_type": "stream",
     "text": [
      "Loaded as API: https://prodia-sdxl-stable-diffusion-xl.hf.space ✔\n"
     ]
    }
   ],
   "source": [
    "# client = Client(\"prodia/fast-stable-diffusion\")\n",
    "client = Client(\"prodia/sdxl-stable-diffusion-xl\")"
   ]
  },
  {
   "cell_type": "markdown",
   "metadata": {},
   "source": [
    "### BEST MODELS OF Fast-Stable-Diffusion\n",
    "#### Real Outputs\n",
    "- amIReal_V41.safetensors [0a8a2e61]\n",
    "- absolutereality_v181.safetensors [3d9d4d2b]\n",
    "- cyberrealistic_v33.safetensors [82b0d085]\n",
    "\n",
    "#### Anime Outputs\n",
    "- anythingV5_PrtRE.safetensors [893e49b9]"
   ]
  },
  {
   "cell_type": "code",
   "execution_count": 22,
   "metadata": {},
   "outputs": [],
   "source": [
    "prompt = \"\"\"A Beautiful Girl is standing on the peak of the mountain, clouds are below to that mountain, anime, facing to the sunshine, with blue hair, \n",
    "        smiling, ultra realistic, high resolution, animated effects, 8k quality, high quality, person is a human and enjoying the vibe\"\"\"\n",
    "\n",
    "negative_prompt = \"\"\"ugly, deformed eyes, deformed ears, deformed nose, deformed mouth, bad anatony, extra  limbs, low resolution, pixelated, \n",
    "                distorted proportion, unnatural colors, unrealistic lighting, excessive noise, unnatural pose, unrealistic shadows\"\"\"\n",
    "\n",
    "stable_diffusion_checkpoints = \"amIReal_V41.safetensors [0a8a2e61]\"\n",
    "sampling_steps = 20.0\n",
    "sampling_method = \"DPM++ 2M Karras\"\n",
    "cfg_scale = 7.0\n",
    "width = 512\n",
    "height = 512\n",
    "seed = -1.0"
   ]
  },
  {
   "cell_type": "markdown",
   "metadata": {},
   "source": [
    "### BEST MODELS FOR SDxL-Stable-Diffusion-xl\n",
    "- juggernautXL_v45.safetensors [e75f5471] \n",
    "- realismEngineSDXL_v10.safetensors [af771c3f]\n",
    "- turbovisionXL_v431.safetensors [78890989]\n",
    "- dynavisionXL_0411.safetensors [c39cc051]\n",
    "- sd_xl_base_1.0.safetensors [be9edd61]"
   ]
  },
  {
   "cell_type": "code",
   "execution_count": 30,
   "metadata": {},
   "outputs": [],
   "source": [
    "result = client.predict(\n",
    "    prompt,\n",
    "    negative_prompt,\n",
    "    stable_diffusion_checkpoints,\n",
    "    sampling_steps,\n",
    "    sampling_method,\n",
    "    cfg_scale,\n",
    "    width,\n",
    "    height,\n",
    "    seed,\n",
    "    api_name=\"/txt2img\"\n",
    ")"
   ]
  },
  {
   "cell_type": "code",
   "execution_count": 25,
   "metadata": {},
   "outputs": [
    {
     "name": "stdout",
     "output_type": "stream",
     "text": [
      "C:\\Users\\surya\\AppData\\Local\\Temp\\gradio\\f9a9f740373ccebc514739cc860e68ed7539c463\\8015115a-f1a9-4ee1-be1b-82b3d9ac767c.png\n"
     ]
    }
   ],
   "source": [
    "print(result)"
   ]
  },
  {
   "cell_type": "code",
   "execution_count": 31,
   "metadata": {},
   "outputs": [
    {
     "name": "stdout",
     "output_type": "stream",
     "text": [
      "File moved successfully\n"
     ]
    }
   ],
   "source": [
    "org_path = result\n",
    "dest_path = r\"Images/image.png\"\n",
    "shutil.move(org_path, dest_path)\n",
    "print(\"File moved successfully\")"
   ]
  },
  {
   "cell_type": "code",
   "execution_count": null,
   "metadata": {},
   "outputs": [],
   "source": [
    "from IPython.display import Image, display\n",
    "\n",
    "# Display an Image by providing the filename\n",
    "display(Image(filename=dest_path))"
   ]
  }
 ],
 "metadata": {
  "kernelspec": {
   "display_name": "venv",
   "language": "python",
   "name": "python3"
  },
  "language_info": {
   "codemirror_mode": {
    "name": "ipython",
    "version": 3
   },
   "file_extension": ".py",
   "mimetype": "text/x-python",
   "name": "python",
   "nbconvert_exporter": "python",
   "pygments_lexer": "ipython3",
   "version": "3.11.0"
  }
 },
 "nbformat": 4,
 "nbformat_minor": 2
}
